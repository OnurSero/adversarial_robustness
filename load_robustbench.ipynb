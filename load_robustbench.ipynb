{
 "cells": [
  {
   "cell_type": "code",
   "execution_count": 1,
   "metadata": {},
   "outputs": [],
   "source": [
    "from robustbench.utils import load_model"
   ]
  },
  {
   "cell_type": "code",
   "execution_count": 2,
   "metadata": {},
   "outputs": [
    {
     "name": "stdout",
     "output_type": "stream",
     "text": [
      "Download started: path=models\\cifar10\\Linf\\Rebuffi2021Fixing_R18_ddpm.pt (gdrive_id=1--dxE66AsgBSUsuK2sXCTrsYUV9B5f95)\n",
      "Download finished: path=models\\cifar10\\Linf\\Rebuffi2021Fixing_R18_ddpm.pt (gdrive_id=1--dxE66AsgBSUsuK2sXCTrsYUV9B5f95)\n"
     ]
    }
   ],
   "source": [
    "\"\"\"\n",
    "\n",
    "{\n",
    "  \"link\": \"https://arxiv.org/abs/2103.01946\",\n",
    "  \"name\": \"Fixing Data Augmentation to Improve Adversarial Robustness\",\n",
    "  \"authors\": \"Sylvestre-Alvise Rebuffi, Sven Gowal, Dan A. Calian, Florian Stimberg, Olivia Wiles, Timothy Mann\",\n",
    "  \"additional_data\": false,\n",
    "  \"number_forward_passes\": 1,\n",
    "  \"dataset\": \"cifar10\",\n",
    "  \"venue\": \"arXiv, Mar 2021\",\n",
    "  \"architecture\": \"PreActResNet-18\",\n",
    "  \"eps\": \"8/255\",\n",
    "  \"clean_acc\": \"83.53\",\n",
    "  \"reported\": \"56.66\",\n",
    "  \"footnote\": \"It uses additional 1M synthetic images in training.\",\n",
    "  \"autoattack_acc\": \"56.66\",\n",
    "  \"unreliable\": false\n",
    "}\n",
    "\n",
    "\"\"\"\n",
    "\n",
    "model = load_model(model_name='Rebuffi2021Fixing_R18_ddpm',\n",
    "                   dataset='cifar10',\n",
    "                   threat_model='Linf')"
   ]
  },
  {
   "cell_type": "code",
   "execution_count": 4,
   "metadata": {},
   "outputs": [
    {
     "name": "stdout",
     "output_type": "stream",
     "text": [
      "Download started: path=models\\cifar10\\Linf\\Andriushchenko2020Understanding.pt (gdrive_id=1Uyvprd98bIyxfMjLdCZwm-NEJ-6GMVis)\n",
      "Download finished: path=models\\cifar10\\Linf\\Andriushchenko2020Understanding.pt (gdrive_id=1Uyvprd98bIyxfMjLdCZwm-NEJ-6GMVis)\n"
     ]
    }
   ],
   "source": [
    "\"\"\"\n",
    "{\n",
    "  \"link\": \"https://arxiv.org/abs/2007.02617\",\n",
    "  \"name\": \"Understanding and Improving Fast Adversarial Training\",\n",
    "  \"authors\": \"Maksym Andriushchenko, Nicolas Flammarion\",\n",
    "  \"additional_data\": false,\n",
    "  \"number_forward_passes\": 1,\n",
    "  \"dataset\": \"cifar10\",\n",
    "  \"venue\": \"NeurIPS 2020\",\n",
    "  \"architecture\": \"PreActResNet-18\",\n",
    "  \"eps\": \"8/255\",\n",
    "  \"clean_acc\": \"79.84\",\n",
    "  \"reported\": \"44.54\",\n",
    "  \"footnote\": \"Focuses on fast adversarial training.\",\n",
    "  \"autoattack_acc\": \"43.93\"\n",
    "}\n",
    "\"\"\"\n",
    "\n",
    "model = load_model(model_name='Andriushchenko2020Understanding',\n",
    "                   dataset='cifar10',\n",
    "                   threat_model='Linf')"
   ]
  },
  {
   "cell_type": "code",
   "execution_count": 8,
   "metadata": {},
   "outputs": [
    {
     "name": "stdout",
     "output_type": "stream",
     "text": [
      "Download started: path=models\\cifar10\\Linf\\Ding2020MMA.pt (gdrive_id=19Q_rIIHXsYzxZ0WcZdqT-N2OD7MfgoZ0)\n",
      "Download finished: path=models\\cifar10\\Linf\\Ding2020MMA.pt (gdrive_id=19Q_rIIHXsYzxZ0WcZdqT-N2OD7MfgoZ0)\n"
     ]
    }
   ],
   "source": [
    "\"\"\"\n",
    "{\n",
    "  \"link\": \"https://openreview.net/forum?id=HkeryxBtPB\",\n",
    "  \"name\": \"MMA Training: Direct Input Space Margin Maximization through Adversarial Training\",\n",
    "  \"authors\": \"Gavin Weiguang Ding, Yash Sharma, Kry Yik Chau Lui, Ruitong Huang\",\n",
    "  \"additional_data\": false,\n",
    "  \"number_forward_passes\": 1,\n",
    "  \"dataset\": \"cifar10\",\n",
    "  \"venue\": \"ICLR 2020\",\n",
    "  \"architecture\": \"WideResNet-28-4\",\n",
    "  \"eps\": \"8/255\",\n",
    "  \"clean_acc\": \"84.36\",\n",
    "  \"reported\": \"47.18\",\n",
    "  \"autoattack_acc\": \"41.44\"\n",
    "}\n",
    "\n",
    "\"\"\"\n",
    "model = load_model(model_name='Ding2020MMA',\n",
    "                   dataset='cifar10',\n",
    "                   threat_model='Linf')"
   ]
  },
  {
   "cell_type": "code",
   "execution_count": 7,
   "metadata": {},
   "outputs": [],
   "source": [
    "# Resnet 28\n",
    "\n",
    "model = load_model(model_name='Standard',\n",
    "                   dataset='cifar10',\n",
    "                   threat_model='Linf').cuda()"
   ]
  },
  {
   "cell_type": "code",
   "execution_count": 8,
   "metadata": {},
   "outputs": [
    {
     "name": "stdout",
     "output_type": "stream",
     "text": [
      "----------------------------------------------------------------\n",
      "        Layer (type)               Output Shape         Param #\n",
      "================================================================\n",
      "            Conv2d-1           [-1, 16, 32, 32]             432\n",
      "       BatchNorm2d-2           [-1, 16, 32, 32]              32\n",
      "              ReLU-3           [-1, 16, 32, 32]               0\n",
      "            Conv2d-4          [-1, 160, 32, 32]          23,040\n",
      "       BatchNorm2d-5          [-1, 160, 32, 32]             320\n",
      "              ReLU-6          [-1, 160, 32, 32]               0\n",
      "            Conv2d-7          [-1, 160, 32, 32]         230,400\n",
      "            Conv2d-8          [-1, 160, 32, 32]           2,560\n",
      "        BasicBlock-9          [-1, 160, 32, 32]               0\n",
      "      BatchNorm2d-10          [-1, 160, 32, 32]             320\n",
      "             ReLU-11          [-1, 160, 32, 32]               0\n",
      "           Conv2d-12          [-1, 160, 32, 32]         230,400\n",
      "      BatchNorm2d-13          [-1, 160, 32, 32]             320\n",
      "             ReLU-14          [-1, 160, 32, 32]               0\n",
      "           Conv2d-15          [-1, 160, 32, 32]         230,400\n",
      "       BasicBlock-16          [-1, 160, 32, 32]               0\n",
      "      BatchNorm2d-17          [-1, 160, 32, 32]             320\n",
      "             ReLU-18          [-1, 160, 32, 32]               0\n",
      "           Conv2d-19          [-1, 160, 32, 32]         230,400\n",
      "      BatchNorm2d-20          [-1, 160, 32, 32]             320\n",
      "             ReLU-21          [-1, 160, 32, 32]               0\n",
      "           Conv2d-22          [-1, 160, 32, 32]         230,400\n",
      "       BasicBlock-23          [-1, 160, 32, 32]               0\n",
      "      BatchNorm2d-24          [-1, 160, 32, 32]             320\n",
      "             ReLU-25          [-1, 160, 32, 32]               0\n",
      "           Conv2d-26          [-1, 160, 32, 32]         230,400\n",
      "      BatchNorm2d-27          [-1, 160, 32, 32]             320\n",
      "             ReLU-28          [-1, 160, 32, 32]               0\n",
      "           Conv2d-29          [-1, 160, 32, 32]         230,400\n",
      "       BasicBlock-30          [-1, 160, 32, 32]               0\n",
      "     NetworkBlock-31          [-1, 160, 32, 32]               0\n",
      "      BatchNorm2d-32          [-1, 160, 32, 32]             320\n",
      "             ReLU-33          [-1, 160, 32, 32]               0\n",
      "           Conv2d-34          [-1, 320, 16, 16]         460,800\n",
      "      BatchNorm2d-35          [-1, 320, 16, 16]             640\n",
      "             ReLU-36          [-1, 320, 16, 16]               0\n",
      "           Conv2d-37          [-1, 320, 16, 16]         921,600\n",
      "           Conv2d-38          [-1, 320, 16, 16]          51,200\n",
      "       BasicBlock-39          [-1, 320, 16, 16]               0\n",
      "      BatchNorm2d-40          [-1, 320, 16, 16]             640\n",
      "             ReLU-41          [-1, 320, 16, 16]               0\n",
      "           Conv2d-42          [-1, 320, 16, 16]         921,600\n",
      "      BatchNorm2d-43          [-1, 320, 16, 16]             640\n",
      "             ReLU-44          [-1, 320, 16, 16]               0\n",
      "           Conv2d-45          [-1, 320, 16, 16]         921,600\n",
      "       BasicBlock-46          [-1, 320, 16, 16]               0\n",
      "      BatchNorm2d-47          [-1, 320, 16, 16]             640\n",
      "             ReLU-48          [-1, 320, 16, 16]               0\n",
      "           Conv2d-49          [-1, 320, 16, 16]         921,600\n",
      "      BatchNorm2d-50          [-1, 320, 16, 16]             640\n",
      "             ReLU-51          [-1, 320, 16, 16]               0\n",
      "           Conv2d-52          [-1, 320, 16, 16]         921,600\n",
      "       BasicBlock-53          [-1, 320, 16, 16]               0\n",
      "      BatchNorm2d-54          [-1, 320, 16, 16]             640\n",
      "             ReLU-55          [-1, 320, 16, 16]               0\n",
      "           Conv2d-56          [-1, 320, 16, 16]         921,600\n",
      "      BatchNorm2d-57          [-1, 320, 16, 16]             640\n",
      "             ReLU-58          [-1, 320, 16, 16]               0\n",
      "           Conv2d-59          [-1, 320, 16, 16]         921,600\n",
      "       BasicBlock-60          [-1, 320, 16, 16]               0\n",
      "     NetworkBlock-61          [-1, 320, 16, 16]               0\n",
      "      BatchNorm2d-62          [-1, 320, 16, 16]             640\n",
      "             ReLU-63          [-1, 320, 16, 16]               0\n",
      "           Conv2d-64            [-1, 640, 8, 8]       1,843,200\n",
      "      BatchNorm2d-65            [-1, 640, 8, 8]           1,280\n",
      "             ReLU-66            [-1, 640, 8, 8]               0\n",
      "           Conv2d-67            [-1, 640, 8, 8]       3,686,400\n",
      "           Conv2d-68            [-1, 640, 8, 8]         204,800\n",
      "       BasicBlock-69            [-1, 640, 8, 8]               0\n",
      "      BatchNorm2d-70            [-1, 640, 8, 8]           1,280\n",
      "             ReLU-71            [-1, 640, 8, 8]               0\n",
      "           Conv2d-72            [-1, 640, 8, 8]       3,686,400\n",
      "      BatchNorm2d-73            [-1, 640, 8, 8]           1,280\n",
      "             ReLU-74            [-1, 640, 8, 8]               0\n",
      "           Conv2d-75            [-1, 640, 8, 8]       3,686,400\n",
      "       BasicBlock-76            [-1, 640, 8, 8]               0\n",
      "      BatchNorm2d-77            [-1, 640, 8, 8]           1,280\n",
      "             ReLU-78            [-1, 640, 8, 8]               0\n",
      "           Conv2d-79            [-1, 640, 8, 8]       3,686,400\n",
      "      BatchNorm2d-80            [-1, 640, 8, 8]           1,280\n",
      "             ReLU-81            [-1, 640, 8, 8]               0\n",
      "           Conv2d-82            [-1, 640, 8, 8]       3,686,400\n",
      "       BasicBlock-83            [-1, 640, 8, 8]               0\n",
      "      BatchNorm2d-84            [-1, 640, 8, 8]           1,280\n",
      "             ReLU-85            [-1, 640, 8, 8]               0\n",
      "           Conv2d-86            [-1, 640, 8, 8]       3,686,400\n",
      "      BatchNorm2d-87            [-1, 640, 8, 8]           1,280\n",
      "             ReLU-88            [-1, 640, 8, 8]               0\n",
      "           Conv2d-89            [-1, 640, 8, 8]       3,686,400\n",
      "       BasicBlock-90            [-1, 640, 8, 8]               0\n",
      "     NetworkBlock-91            [-1, 640, 8, 8]               0\n",
      "      BatchNorm2d-92            [-1, 640, 8, 8]           1,280\n",
      "             ReLU-93            [-1, 640, 8, 8]               0\n",
      "           Linear-94                   [-1, 10]           6,410\n",
      "================================================================\n",
      "Total params: 36,479,194\n",
      "Trainable params: 36,479,194\n",
      "Non-trainable params: 0\n",
      "----------------------------------------------------------------\n",
      "Input size (MB): 0.01\n",
      "Forward/backward pass size (MB): 66.00\n",
      "Params size (MB): 139.16\n",
      "Estimated Total Size (MB): 205.17\n",
      "----------------------------------------------------------------\n"
     ]
    }
   ],
   "source": [
    "from torchsummary import summary\n",
    "summary(model, (3, 32, 32))"
   ]
  },
  {
   "cell_type": "code",
   "execution_count": null,
   "metadata": {},
   "outputs": [],
   "source": []
  }
 ],
 "metadata": {
  "interpreter": {
   "hash": "d17c003e880bc7a4af63ad5e86ed8af3565b68ebaecf04bbacd7e1d0358b196a"
  },
  "kernelspec": {
   "display_name": "Python 3.9.7 ('env')",
   "language": "python",
   "name": "python3"
  },
  "language_info": {
   "codemirror_mode": {
    "name": "ipython",
    "version": 3
   },
   "file_extension": ".py",
   "mimetype": "text/x-python",
   "name": "python",
   "nbconvert_exporter": "python",
   "pygments_lexer": "ipython3",
   "version": "3.9.7"
  },
  "orig_nbformat": 4
 },
 "nbformat": 4,
 "nbformat_minor": 2
}
