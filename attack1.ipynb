{
 "cells": [
  {
   "cell_type": "code",
   "execution_count": 1,
   "metadata": {},
   "outputs": [
    {
     "name": "stdout",
     "output_type": "stream",
     "text": [
      "Loading dataset: data\\cifar10.py\n",
      "Files already downloaded and verified\n",
      "Files already downloaded and verified\n",
      "Created 5 parts.\n",
      "Enable all parts\n",
      "checkpoint to cuda:0\n"
     ]
    },
    {
     "data": {
      "text/plain": [
       "<All keys matched successfully>"
      ]
     },
     "execution_count": 1,
     "metadata": {},
     "output_type": "execute_result"
    }
   ],
   "source": [
    "from tools import utils, config, trainer, parts\n",
    "import torch\n",
    "import numpy as np\n",
    "import matplotlib.pyplot as plt\n",
    "import seaborn as sns\n",
    "from torch.nn import functional as F\n",
    "from tools import utils\n",
    "import torch.nn as nn\n",
    "\n",
    "class AuxNet(nn.Module):\n",
    "    def __init__(self, model):\n",
    "        super(AuxNet, self).__init__()\n",
    "        self.conv1 = model.conv1\n",
    "        self.bn1 = model.bn1\n",
    "        self.relu1 = model.relu1\n",
    "        \n",
    "        self.pool1 = model.pool1\n",
    "        \n",
    "        self.aux_conv = model.aux_conv\n",
    "        self.aux_reduce_conv = model.aux_reduce_conv\n",
    "        \n",
    "        self.bn2 = model.bn2\n",
    "        self.relu2 = model.relu2\n",
    "        \n",
    "        self.pool2 = model.pool2\n",
    "        self.conv3 = model.conv3\n",
    "        self.bn3 = model.bn3\n",
    "        self.relu3 = model.relu3\n",
    "        \n",
    "        self.pool3 = model.pool3\n",
    "        self.flatten1 = model.flatten1\n",
    "        self.fc1 = model.fc1\n",
    "        self.relu_out = model.relu_out\n",
    "        self.fc2 = model.fc2\n",
    "        self.softmax = model.softmax\n",
    "        \n",
    "    def forward(self, x):\n",
    "        x = self.conv1(x)\n",
    "        x = self.bn1(x)\n",
    "        x = self.relu1(x)\n",
    "        \n",
    "        x = self.pool1(x)\n",
    "        x = self.aux_conv(x)\n",
    "        x = self.aux_reduce_conv(x)\n",
    "        x = self.bn2(x)\n",
    "        x = self.relu2(x)\n",
    "        \n",
    "        x = self.pool2(x)\n",
    "        x = self.conv3(x)\n",
    "        x = self.bn3(x)\n",
    "        x = self.relu3(x)\n",
    "        \n",
    "        x = self.pool3(x)\n",
    "        fc1_in = self.flatten1(x)\n",
    "        fc1_out = self.fc1(fc1_in)\n",
    "        relu_out = self.relu_out(fc1_out)\n",
    "        fc2_out = self.fc2(relu_out)\n",
    "        logsoftmax_output = self.softmax(fc2_out)\n",
    "            \n",
    "        return logsoftmax_output\n",
    "\n",
    "plt.style.use('fast')\n",
    "PLOT_DIR = 'plots'\n",
    "\n",
    "cfg = config.from_yaml(\"experiments\\exp1_supervised_all_aux\\config.yaml\")\n",
    "dataset = utils.load_dataset_module(**cfg.data_supervised)\n",
    "dataset.torch_seed()\n",
    "test_loader = dataset.get_test_loader(**cfg.data_supervised)\n",
    "test_dataset = dataset.get_test_dataset()\n",
    "\n",
    "# Trained model\n",
    "model_trained = utils.load_model(**cfg.model)\n",
    "\n",
    "part_manager_trained = parts.PartManager(model_trained)\n",
    "part_manager_trained.enable_all()\n",
    "\n",
    "i_part = 1\n",
    "trn_trained = trainer.ModelTrainer(model_trained, cfg.trainer_sup, part_manager_trained)\n",
    "#trn_trained.set_aux_layer(part_manager_trained.parts[i_part], size_multiplier=1)\n",
    "model_trained.load_state_dict(torch.load(\"experiments\\exp1_supervised_all\\checkpoint.pth\"))\n",
    "#model_trained = AuxNet(model_trained)"
   ]
  },
  {
   "cell_type": "code",
   "execution_count": 2,
   "metadata": {},
   "outputs": [],
   "source": [
    "import torchattacks\n",
    "from tqdm import tqdm\n",
    "\n",
    "def get_accuracy(model, device, attack_on = True):\n",
    "    correct = 0\n",
    "    n_examples = 0\n",
    "\n",
    "    atk = torchattacks.PGD(model, eps=8/255, alpha=2/255, steps=4)\n",
    "    # adv_images = None\n",
    "    # y = None\n",
    "    # adv_pred = None\n",
    "\n",
    "    for x, y in tqdm(test_loader):\n",
    "        x.to(device)\n",
    "        y.to(device)\n",
    "        n_examples += x.shape[0]\n",
    "        adv_images = atk(x, y) if attack_on else x.to(device)\n",
    "        adv_pred = model(adv_images).data.max(1, keepdim=True)[1].cpu()\n",
    "        correct += adv_pred.eq(y.data.view_as(adv_pred)).sum()\n",
    "        \n",
    "    acc = correct / n_examples\n",
    "    return acc"
   ]
  },
  {
   "cell_type": "code",
   "execution_count": 3,
   "metadata": {},
   "outputs": [
    {
     "name": "stderr",
     "output_type": "stream",
     "text": [
      "  0%|          | 0/400 [00:00<?, ?it/s]D:\\Miniconda3\\envs\\env\\lib\\site-packages\\torch\\nn\\modules\\module.py:1102: UserWarning: Implicit dimension choice for log_softmax has been deprecated. Change the call to include dim=X as an argument.\n",
      "  return forward_call(*input, **kwargs)\n",
      "100%|██████████| 400/400 [00:04<00:00, 80.59it/s] \n",
      "100%|██████████| 400/400 [00:15<00:00, 26.47it/s]"
     ]
    },
    {
     "name": "stdout",
     "output_type": "stream",
     "text": [
      "acc_no_attack: 0.63919997215271\n",
      "acc_attack: 0.19820000231266022\n"
     ]
    },
    {
     "name": "stderr",
     "output_type": "stream",
     "text": [
      "\n"
     ]
    }
   ],
   "source": [
    "acc_no_attack = get_accuracy(model_trained, trn_trained.device, attack_on = False)\n",
    "acc_attack = get_accuracy(model_trained, trn_trained.device, attack_on = True)\n",
    "\n",
    "print(f\"acc_no_attack: {acc_no_attack}\")\n",
    "print(f\"acc_attack: {acc_attack}\")"
   ]
  },
  {
   "cell_type": "code",
   "execution_count": 4,
   "metadata": {},
   "outputs": [
    {
     "data": {
      "text/plain": [
       "'i_example = 0\\n\\nplt.figure(figsize=(3, 3))\\nplt.imshow(adv_images.cpu().detach().numpy()[i_example].transpose([1, 2, 0]))\\nplt.title(\"label: \" + str(y.detach().numpy()[i_example]) + \\' pred: \\' + str(adv_pred.detach().numpy()[i_example][0]))'"
      ]
     },
     "execution_count": 4,
     "metadata": {},
     "output_type": "execute_result"
    }
   ],
   "source": [
    "\"\"\"i_example = 0\n",
    "\n",
    "plt.figure(figsize=(3, 3))\n",
    "plt.imshow(adv_images.cpu().detach().numpy()[i_example].transpose([1, 2, 0]))\n",
    "plt.title(\"label: \" + str(y.detach().numpy()[i_example]) + ' pred: ' + str(adv_pred.detach().numpy()[i_example][0]))\"\"\""
   ]
  },
  {
   "cell_type": "code",
   "execution_count": null,
   "metadata": {},
   "outputs": [],
   "source": []
  }
 ],
 "metadata": {
  "interpreter": {
   "hash": "8d13dd16ed1d9d0f9b50066a4c58f58f02ea0db6cf3822c9f71a8c066ab69665"
  },
  "kernelspec": {
   "display_name": "Python 3.9.7 ('env')",
   "language": "python",
   "name": "python3"
  },
  "language_info": {
   "codemirror_mode": {
    "name": "ipython",
    "version": 3
   },
   "file_extension": ".py",
   "mimetype": "text/x-python",
   "name": "python",
   "nbconvert_exporter": "python",
   "pygments_lexer": "ipython3",
   "version": "3.9.7"
  },
  "orig_nbformat": 4
 },
 "nbformat": 4,
 "nbformat_minor": 2
}
