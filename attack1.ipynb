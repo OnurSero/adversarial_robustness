{
 "cells": [
  {
   "cell_type": "code",
   "execution_count": 1,
   "metadata": {},
   "outputs": [
    {
     "name": "stdout",
     "output_type": "stream",
     "text": [
      "Loading dataset: data\\cifar10.py\n",
      "Files already downloaded and verified\n",
      "Files already downloaded and verified\n",
      "Created 5 parts.\n",
      "Enable all parts\n",
      "checkpoint to cuda:0\n"
     ]
    }
   ],
   "source": [
    "from tools import utils, config, trainer, parts\n",
    "import torch\n",
    "import numpy as np\n",
    "import matplotlib.pyplot as plt\n",
    "import seaborn as sns\n",
    "from torch.nn import functional as F\n",
    "from tools import utils\n",
    "\n",
    "plt.style.use('fast')\n",
    "PLOT_DIR = 'plots'\n",
    "\n",
    "cfg = config.from_yaml(\"experiments\\exp1_supervised_all\\config.yaml\")\n",
    "dataset = utils.load_dataset_module(**cfg.data_supervised)\n",
    "dataset.torch_seed()\n",
    "test_loader = dataset.get_test_loader(**cfg.data_supervised)\n",
    "test_dataset = dataset.get_test_dataset()\n",
    "\n",
    "# Trained model\n",
    "model_trained = utils.load_model(**cfg.model)\n",
    "model_trained.load_state_dict(torch.load(\"experiments\\exp1_supervised_all\\checkpoint.pth\"))\n",
    "\n",
    "part_manager_trained = parts.PartManager(model_trained)\n",
    "part_manager_trained.enable_all()\n",
    "\n",
    "trn_trained = trainer.ModelTrainer(model_trained, cfg.trainer_sup, part_manager_trained)"
   ]
  },
  {
   "cell_type": "code",
   "execution_count": 30,
   "metadata": {},
   "outputs": [
    {
     "name": "stderr",
     "output_type": "stream",
     "text": [
      "D:\\Miniconda3\\envs\\env\\lib\\site-packages\\torch\\nn\\modules\\module.py:1102: UserWarning: Implicit dimension choice for log_softmax has been deprecated. Change the call to include dim=X as an argument.\n",
      "  return forward_call(*input, **kwargs)\n"
     ]
    },
    {
     "data": {
      "text/plain": [
       "tensor(0.1199)"
      ]
     },
     "execution_count": 30,
     "metadata": {},
     "output_type": "execute_result"
    }
   ],
   "source": [
    "import torchattacks\n",
    "adv_y = []\n",
    "\n",
    "correct = 0\n",
    "n_examples = 0\n",
    "\n",
    "atk = torchattacks.PGD(model_trained, eps=8/255, alpha=2/255, steps=4)\n",
    "adv_images = None\n",
    "y = None\n",
    "adv_pred = None\n",
    "\n",
    "for x, y in test_loader:\n",
    "    x.to(trn_trained.device)\n",
    "    y.to(trn_trained.device)\n",
    "    n_examples += x.shape[0]\n",
    "    adv_images = atk(x, y) # x.to(trn_trained.device)\n",
    "    adv_pred = model_trained(adv_images).data.max(1, keepdim=True)[1].cpu()\n",
    "    correct += adv_pred.eq(y.data.view_as(adv_pred)).sum()\n",
    "    \n",
    "acc = correct / n_examples\n",
    "acc"
   ]
  },
  {
   "cell_type": "code",
   "execution_count": 37,
   "metadata": {},
   "outputs": [
    {
     "data": {
      "text/plain": [
       "Text(0.5, 1.0, 'label: 3 pred: 8')"
      ]
     },
     "execution_count": 37,
     "metadata": {},
     "output_type": "execute_result"
    },
    {
     "data": {
      "image/png": "[encoded data removed]",
      "text/plain": [
       "<Figure size 216x216 with 1 Axes>"
      ]
     },
     "metadata": {},
     "output_type": "display_data"
    }
   ],
   "source": [
    "i_example = 0\n",
    "\n",
    "plt.figure(figsize=(3, 3))\n",
    "plt.imshow(adv_images.cpu().detach().numpy()[i_example].transpose([1, 2, 0]))\n",
    "plt.title(\"label: \" + str(y.detach().numpy()[i_example]) + ' pred: ' + str(adv_pred.detach().numpy()[i_example][0]))"
   ]
  },
  {
   "cell_type": "code",
   "execution_count": 24,
   "metadata": {},
   "outputs": [
    {
     "data": {
      "text/plain": [
       "tensor(0.7552)"
      ]
     },
     "execution_count": 24,
     "metadata": {},
     "output_type": "execute_result"
    }
   ],
   "source": []
  },
  {
   "cell_type": "code",
   "execution_count": 38,
   "metadata": {},
   "outputs": [
    {
     "data": {
      "text/plain": [
       "torch.Size([80, 40, 3, 3])"
      ]
     },
     "execution_count": 38,
     "metadata": {},
     "output_type": "execute_result"
    }
   ],
   "source": [
    "part_manager_trained.parts[1].get_conv_layer().weight.shape"
   ]
  },
  {
   "cell_type": "code",
   "execution_count": null,
   "metadata": {},
   "outputs": [],
   "source": []
  }
 ],
 "metadata": {
  "interpreter": {
   "hash": "8d13dd16ed1d9d0f9b50066a4c58f58f02ea0db6cf3822c9f71a8c066ab69665"
  },
  "kernelspec": {
   "display_name": "Python 3.9.7 ('env')",
   "language": "python",
   "name": "python3"
  },
  "language_info": {
   "codemirror_mode": {
    "name": "ipython",
    "version": 3
   },
   "file_extension": ".py",
   "mimetype": "text/x-python",
   "name": "python",
   "nbconvert_exporter": "python",
   "pygments_lexer": "ipython3",
   "version": "3.9.7"
  },
  "orig_nbformat": 4
 },
 "nbformat": 4,
 "nbformat_minor": 2
}
