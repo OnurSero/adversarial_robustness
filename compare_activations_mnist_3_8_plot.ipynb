{
 "cells": [
  {
   "cell_type": "code",
   "execution_count": 1,
   "metadata": {},
   "outputs": [],
   "source": [
    "import numpy as np\n",
    "import matplotlib.pyplot as plt\n",
    "import pandas as pd\n",
    "import seaborn as sns\n",
    "\n",
    "act_30_path = r\"D:\\projects\\adversarial_robustness\\experiments\\exp1_cmpe597_regular_mnist_robust30\\activations.npy\"\n",
    "act_50_path = r\"D:\\projects\\adversarial_robustness\\experiments\\exp1_cmpe597_regular_mnist_robust50\\activations.npy\"\n",
    "act_70_path = r\"D:\\projects\\adversarial_robustness\\experiments\\exp1_cmpe597_regular_mnist_robust70\\activations.npy\"\n",
    "\n",
    "act1 = np.load(act_30_path)\n",
    "act2 = np.load(act_50_path)\n",
    "act3 = np.load(act_70_path)"
   ]
  },
  {
   "cell_type": "code",
   "execution_count": 47,
   "metadata": {},
   "outputs": [
    {
     "data": {
      "text/plain": [
       "'def plot_5_dims(act):\\n    act_slice = get_slice(act)\\n    \\n    fig, ax = plt.subplots(2, 5, figsize=(22, 10))\\n    ax_i = -1\\n    for i in range(5):\\n        for j in range(i+1, 5):\\n            ax_i += 1\\n            ax_y, ax_x = ax_i // 5, ax_i % 5\\n            ax[ax_y, ax_x].scatter(x=act_slice[0, :, i], y=act_slice[0, :, j], c=\"blue\")\\n            ax[ax_y, ax_x].scatter(x=act_slice[1, :, i], y=act_slice[0, :, j], c=\"red\")\\n            \\n    plt.legend([\"3\", \"8\"])\\n    plt.show()'"
      ]
     },
     "execution_count": 47,
     "metadata": {},
     "output_type": "execute_result"
    }
   ],
   "source": [
    "def get_slice(act):\n",
    "    slice_size = act.shape[-1] // 5\n",
    "    #act = act[:, :, :, slice_size*2:slice_size*3, slice_size*2:slice_size*3].mean(axis=-1).mean(axis=-1)\n",
    "    act = np.vstack([act[0], act[1]])\n",
    "    act = act.reshape((act.shape[0], -1))\n",
    "    return act\n",
    "    #return act[:, :, :, 6, 6]\n",
    "\n",
    "\"\"\"def plot_5_dims(act):\n",
    "    act_slice = get_slice(act)\n",
    "    \n",
    "    fig, ax = plt.subplots(2, 5, figsize=(22, 10))\n",
    "    ax_i = -1\n",
    "    for i in range(5):\n",
    "        for j in range(i+1, 5):\n",
    "            ax_i += 1\n",
    "            ax_y, ax_x = ax_i // 5, ax_i % 5\n",
    "            ax[ax_y, ax_x].scatter(x=act_slice[0, :, i], y=act_slice[0, :, j], c=\"blue\")\n",
    "            ax[ax_y, ax_x].scatter(x=act_slice[1, :, i], y=act_slice[0, :, j], c=\"red\")\n",
    "            \n",
    "    plt.legend([\"3\", \"8\"])\n",
    "    plt.show()\"\"\""
   ]
  },
  {
   "cell_type": "code",
   "execution_count": 60,
   "metadata": {},
   "outputs": [
    {
     "name": "stdout",
     "output_type": "stream",
     "text": [
      "[0.11785731 0.09575818 0.06738835 0.05396928 0.04660016]\n",
      "[0.12134703 0.08214576 0.05687864 0.052313   0.047494  ]\n"
     ]
    }
   ],
   "source": [
    "from sklearn.decomposition import PCA\n",
    "\n",
    "act = act1\n",
    "act_slice = get_slice(act)\n",
    "pca = PCA(n_components=5)\n",
    "pca.fit(act_slice[:500])\n",
    "print(pca.explained_variance_ratio_)\n",
    "\n",
    "pca = PCA(n_components=5)\n",
    "pca.fit(act_slice[500:])\n",
    "print(pca.explained_variance_ratio_)"
   ]
  },
  {
   "cell_type": "code",
   "execution_count": 61,
   "metadata": {},
   "outputs": [
    {
     "name": "stdout",
     "output_type": "stream",
     "text": [
      "[0.1242554  0.10513357 0.06748427 0.05618605 0.05052777]\n",
      "[0.12140512 0.08909638 0.06049634 0.04820549 0.04382665]\n"
     ]
    }
   ],
   "source": [
    "from sklearn.decomposition import PCA\n",
    "\n",
    "act = act2\n",
    "act_slice = get_slice(act)\n",
    "pca = PCA(n_components=5)\n",
    "pca.fit(act_slice[:500])\n",
    "print(pca.explained_variance_ratio_)\n",
    "\n",
    "pca = PCA(n_components=5)\n",
    "pca.fit(act_slice[500:])\n",
    "print(pca.explained_variance_ratio_)"
   ]
  },
  {
   "cell_type": "code",
   "execution_count": 62,
   "metadata": {},
   "outputs": [
    {
     "name": "stdout",
     "output_type": "stream",
     "text": [
      "[0.12616943 0.09718695 0.07018437 0.0554196  0.05238372]\n",
      "[0.11241765 0.08648881 0.05952363 0.04912027 0.04240352]\n"
     ]
    }
   ],
   "source": [
    "from sklearn.decomposition import PCA\n",
    "\n",
    "act = act3\n",
    "act_slice = get_slice(act)\n",
    "pca = PCA(n_components=5)\n",
    "pca.fit(act_slice[:500])\n",
    "print(pca.explained_variance_ratio_)\n",
    "\n",
    "pca = PCA(n_components=5)\n",
    "pca.fit(act_slice[500:])\n",
    "print(pca.explained_variance_ratio_)"
   ]
  },
  {
   "cell_type": "code",
   "execution_count": null,
   "metadata": {},
   "outputs": [],
   "source": []
  }
 ],
 "metadata": {
  "interpreter": {
   "hash": "d17c003e880bc7a4af63ad5e86ed8af3565b68ebaecf04bbacd7e1d0358b196a"
  },
  "kernelspec": {
   "display_name": "Python 3.9.7 ('env')",
   "language": "python",
   "name": "python3"
  },
  "language_info": {
   "codemirror_mode": {
    "name": "ipython",
    "version": 3
   },
   "file_extension": ".py",
   "mimetype": "text/x-python",
   "name": "python",
   "nbconvert_exporter": "python",
   "pygments_lexer": "ipython3",
   "version": "3.9.7"
  },
  "orig_nbformat": 4
 },
 "nbformat": 4,
 "nbformat_minor": 2
}
