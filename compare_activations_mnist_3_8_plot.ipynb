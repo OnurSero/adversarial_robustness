{
 "cells": [
  {
   "cell_type": "code",
   "execution_count": 1,
   "metadata": {},
   "outputs": [],
   "source": [
    "import numpy as np\n",
    "import matplotlib.pyplot as plt\n",
    "import pandas as pd\n",
    "import seaborn as sns\n",
    "\n",
    "act_30_path = r\"D:\\projects\\adversarial_robustness\\experiments\\exp1_cmpe597_regular_mnist_robust30\\activations.npy\"\n",
    "act_50_path = r\"D:\\projects\\adversarial_robustness\\experiments\\exp1_cmpe597_regular_mnist_robust50\\activations.npy\"\n",
    "act_70_path = r\"D:\\projects\\adversarial_robustness\\experiments\\exp1_cmpe597_regular_mnist_robust70\\activations.npy\"\n",
    "\n",
    "act1 = np.load(act_30_path)\n",
    "act2 = np.load(act_50_path)\n",
    "act3 = np.load(act_70_path)"
   ]
  },
  {
   "cell_type": "code",
   "execution_count": 47,
   "metadata": {},
   "outputs": [
    {
     "data": {
      "text/plain": [
       "'def plot_5_dims(act):\\n    act_slice = get_slice(act)\\n    \\n    fig, ax = plt.subplots(2, 5, figsize=(22, 10))\\n    ax_i = -1\\n    for i in range(5):\\n        for j in range(i+1, 5):\\n            ax_i += 1\\n            ax_y, ax_x = ax_i // 5, ax_i % 5\\n            ax[ax_y, ax_x].scatter(x=act_slice[0, :, i], y=act_slice[0, :, j], c=\"blue\")\\n            ax[ax_y, ax_x].scatter(x=act_slice[1, :, i], y=act_slice[0, :, j], c=\"red\")\\n            \\n    plt.legend([\"3\", \"8\"])\\n    plt.show()'"
      ]
     },
     "execution_count": 47,
     "metadata": {},
     "output_type": "execute_result"
    }
   ],
   "source": [
    "def get_slice(act):\n",
    "    slice_size = act.shape[-1] // 5\n",
    "    #act = act[:, :, :, slice_size*2:slice_size*3, slice_size*2:slice_size*3].mean(axis=-1).mean(axis=-1)\n",
    "    act = np.vstack([act[0], act[1]])\n",
    "    act = act.reshape((act.shape[0], -1))\n",
    "    return act\n",
    "    #return act[:, :, :, 6, 6]\n",
    "\n",
    "\"\"\"def plot_5_dims(act):\n",
    "    act_slice = get_slice(act)\n",
    "    \n",
    "    fig, ax = plt.subplots(2, 5, figsize=(22, 10))\n",
    "    ax_i = -1\n",
    "    for i in range(5):\n",
    "        for j in range(i+1, 5):\n",
    "            ax_i += 1\n",
    "            ax_y, ax_x = ax_i // 5, ax_i % 5\n",
    "            ax[ax_y, ax_x].scatter(x=act_slice[0, :, i], y=act_slice[0, :, j], c=\"blue\")\n",
    "            ax[ax_y, ax_x].scatter(x=act_slice[1, :, i], y=act_slice[0, :, j], c=\"red\")\n",
    "            \n",
    "    plt.legend([\"3\", \"8\"])\n",
    "    plt.show()\"\"\""
   ]
  },
  {
   "cell_type": "code",
   "execution_count": 59,
   "metadata": {},
   "outputs": [
    {
     "name": "stdout",
     "output_type": "stream",
     "text": [
      "[0.11785731 0.09575803 0.06738839 0.05396926 0.04660006]\n"
     ]
    }
   ],
   "source": [
    "from sklearn.decomposition import PCA\n",
    "\n",
    "act = act1\n",
    "act_slice = get_slice(act)\n",
    "pca = PCA(n_components=5)\n",
    "pca.fit(act_slice[:500])\n",
    "print(pca.explained_variance_ratio_)\n",
    "\n",
    "pca = PCA(n_components=5)\n",
    "pca.fit(act_slice[500:])\n",
    "print(pca.explained_variance_ratio_)"
   ]
  },
  {
   "cell_type": "code",
   "execution_count": 58,
   "metadata": {},
   "outputs": [
    {
     "ename": "IndexError",
     "evalue": "index 0 is out of bounds for axis 0 with size 0",
     "output_type": "error",
     "traceback": [
      "\u001b[1;31m---------------------------------------------------------------------------\u001b[0m",
      "\u001b[1;31mIndexError\u001b[0m                                Traceback (most recent call last)",
      "\u001b[1;32m~\\AppData\\Local\\Temp/ipykernel_18940/3916061261.py\u001b[0m in \u001b[0;36m<module>\u001b[1;34m\u001b[0m\n\u001b[0;32m      2\u001b[0m \u001b[1;33m\u001b[0m\u001b[0m\n\u001b[0;32m      3\u001b[0m \u001b[0mact\u001b[0m \u001b[1;33m=\u001b[0m \u001b[0mact2\u001b[0m\u001b[1;33m[\u001b[0m\u001b[1;36m500\u001b[0m\u001b[1;33m:\u001b[0m\u001b[1;33m]\u001b[0m\u001b[1;33m\u001b[0m\u001b[1;33m\u001b[0m\u001b[0m\n\u001b[1;32m----> 4\u001b[1;33m \u001b[0mact_slice\u001b[0m \u001b[1;33m=\u001b[0m \u001b[0mget_slice\u001b[0m\u001b[1;33m(\u001b[0m\u001b[0mact\u001b[0m\u001b[1;33m)\u001b[0m\u001b[1;33m\u001b[0m\u001b[1;33m\u001b[0m\u001b[0m\n\u001b[0m\u001b[0;32m      5\u001b[0m \u001b[0mpca\u001b[0m \u001b[1;33m=\u001b[0m \u001b[0mPCA\u001b[0m\u001b[1;33m(\u001b[0m\u001b[0mn_components\u001b[0m\u001b[1;33m=\u001b[0m\u001b[1;36m5\u001b[0m\u001b[1;33m)\u001b[0m\u001b[1;33m\u001b[0m\u001b[1;33m\u001b[0m\u001b[0m\n\u001b[0;32m      6\u001b[0m \u001b[0mpca\u001b[0m\u001b[1;33m.\u001b[0m\u001b[0mfit\u001b[0m\u001b[1;33m(\u001b[0m\u001b[0mact_slice\u001b[0m\u001b[1;33m)\u001b[0m\u001b[1;33m\u001b[0m\u001b[1;33m\u001b[0m\u001b[0m\n",
      "\u001b[1;32m~\\AppData\\Local\\Temp/ipykernel_18940/3584009613.py\u001b[0m in \u001b[0;36mget_slice\u001b[1;34m(act)\u001b[0m\n\u001b[0;32m      2\u001b[0m     \u001b[0mslice_size\u001b[0m \u001b[1;33m=\u001b[0m \u001b[0mact\u001b[0m\u001b[1;33m.\u001b[0m\u001b[0mshape\u001b[0m\u001b[1;33m[\u001b[0m\u001b[1;33m-\u001b[0m\u001b[1;36m1\u001b[0m\u001b[1;33m]\u001b[0m \u001b[1;33m//\u001b[0m \u001b[1;36m5\u001b[0m\u001b[1;33m\u001b[0m\u001b[1;33m\u001b[0m\u001b[0m\n\u001b[0;32m      3\u001b[0m     \u001b[1;31m#act = act[:, :, :, slice_size*2:slice_size*3, slice_size*2:slice_size*3].mean(axis=-1).mean(axis=-1)\u001b[0m\u001b[1;33m\u001b[0m\u001b[1;33m\u001b[0m\u001b[0m\n\u001b[1;32m----> 4\u001b[1;33m     \u001b[0mact\u001b[0m \u001b[1;33m=\u001b[0m \u001b[0mnp\u001b[0m\u001b[1;33m.\u001b[0m\u001b[0mvstack\u001b[0m\u001b[1;33m(\u001b[0m\u001b[1;33m[\u001b[0m\u001b[0mact\u001b[0m\u001b[1;33m[\u001b[0m\u001b[1;36m0\u001b[0m\u001b[1;33m]\u001b[0m\u001b[1;33m,\u001b[0m \u001b[0mact\u001b[0m\u001b[1;33m[\u001b[0m\u001b[1;36m1\u001b[0m\u001b[1;33m]\u001b[0m\u001b[1;33m]\u001b[0m\u001b[1;33m)\u001b[0m\u001b[1;33m\u001b[0m\u001b[1;33m\u001b[0m\u001b[0m\n\u001b[0m\u001b[0;32m      5\u001b[0m     \u001b[0mact\u001b[0m \u001b[1;33m=\u001b[0m \u001b[0mact\u001b[0m\u001b[1;33m.\u001b[0m\u001b[0mreshape\u001b[0m\u001b[1;33m(\u001b[0m\u001b[1;33m(\u001b[0m\u001b[0mact\u001b[0m\u001b[1;33m.\u001b[0m\u001b[0mshape\u001b[0m\u001b[1;33m[\u001b[0m\u001b[1;36m0\u001b[0m\u001b[1;33m]\u001b[0m\u001b[1;33m,\u001b[0m \u001b[1;33m-\u001b[0m\u001b[1;36m1\u001b[0m\u001b[1;33m)\u001b[0m\u001b[1;33m)\u001b[0m\u001b[1;33m\u001b[0m\u001b[1;33m\u001b[0m\u001b[0m\n\u001b[0;32m      6\u001b[0m     \u001b[1;32mreturn\u001b[0m \u001b[0mact\u001b[0m\u001b[1;33m\u001b[0m\u001b[1;33m\u001b[0m\u001b[0m\n",
      "\u001b[1;31mIndexError\u001b[0m: index 0 is out of bounds for axis 0 with size 0"
     ]
    }
   ],
   "source": [
    "from sklearn.decomposition import PCA\n",
    "\n",
    "act = act2\n",
    "act_slice = get_slice(act)\n",
    "pca = PCA(n_components=5)\n",
    "pca.fit(act_slice)\n",
    "print(pca.explained_variance_ratio_)"
   ]
  },
  {
   "cell_type": "code",
   "execution_count": 50,
   "metadata": {},
   "outputs": [
    {
     "name": "stdout",
     "output_type": "stream",
     "text": [
      "[0.12936473 0.07769232 0.05358804 0.04750815 0.04454456]\n"
     ]
    }
   ],
   "source": [
    "from sklearn.decomposition import PCA\n",
    "\n",
    "act = act3\n",
    "act_slice = get_slice(act)\n",
    "pca = PCA(n_components=5)\n",
    "pca.fit(act_slice)\n",
    "print(pca.explained_variance_ratio_)"
   ]
  },
  {
   "cell_type": "code",
   "execution_count": null,
   "metadata": {},
   "outputs": [],
   "source": []
  }
 ],
 "metadata": {
  "interpreter": {
   "hash": "d17c003e880bc7a4af63ad5e86ed8af3565b68ebaecf04bbacd7e1d0358b196a"
  },
  "kernelspec": {
   "display_name": "Python 3.9.7 ('env')",
   "language": "python",
   "name": "python3"
  },
  "language_info": {
   "codemirror_mode": {
    "name": "ipython",
    "version": 3
   },
   "file_extension": ".py",
   "mimetype": "text/x-python",
   "name": "python",
   "nbconvert_exporter": "python",
   "pygments_lexer": "ipython3",
   "version": "3.9.7"
  },
  "orig_nbformat": 4
 },
 "nbformat": 4,
 "nbformat_minor": 2
}
