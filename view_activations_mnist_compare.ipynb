{
 "cells": [
  {
   "cell_type": "code",
   "execution_count": null,
   "metadata": {},
   "outputs": [],
   "source": [
    "from tools import utils, config, trainer, parts\n",
    "import torch\n",
    "import numpy as np\n",
    "import matplotlib.pyplot as plt\n",
    "import seaborn as sns\n",
    "from torch.nn import functional as F\n",
    "from tools import utils\n",
    "\n",
    "plt.style.use('fast')\n",
    "PLOT_DIR = 'plots'\n",
    "\n",
    "cfg = config.from_yaml(\"experiments\\exp1_cmpe597_regular_mnist_robust30\\config.yaml\")\n",
    "dataset = utils.load_dataset_module(**cfg.data_supervised)\n",
    "dataset.torch_seed()\n",
    "test_loader = dataset.get_test_loader(**cfg.data_supervised)\n",
    "test_dataset = dataset.get_test_dataset()\n",
    "\n",
    "def get_model(cfg, model_path):\n",
    "    model = utils.load_model(**cfg.model)\n",
    "    model.load_state_dict(torch.load(model_path))\n",
    "    part_manager = parts.PartManager(model)\n",
    "    part_manager.enable_all()\n",
    "    trn = trainer.ModelTrainer(model, cfg.trainer_sup, part_manager)\n",
    "    model.eval();\n",
    "    return model, trn, part_manager\n",
    "\n",
    "model1, trn1, manager1 = get_model(cfg, \"experiments\\exp1_cmpe597_regular_mnist_robust30\\checkpoint.pth\")\n",
    "model2, trn2, manager2 = get_model(cfg, \"experiments\\exp1_cmpe597_regular_mnist_robust50\\checkpoint.pth\")\n",
    "model3, trn3, manager3 = get_model(cfg, \"experiments\\exp1_cmpe597_regular_mnist_robust70\\checkpoint.pth\")"
   ]
  },
  {
   "cell_type": "markdown",
   "metadata": {},
   "source": [
    "### Get samples for each class"
   ]
  },
  {
   "cell_type": "code",
   "execution_count": null,
   "metadata": {},
   "outputs": [],
   "source": [
    "classes = [3, 8]\n",
    "n_classes = len(classes)\n",
    "class_size = 500\n",
    "classes_to_accumulate = [c for c in classes]\n",
    "examples = {i: [] for i in classes}\n",
    "\n",
    "i = 0\n",
    "while i < len(test_dataset):\n",
    "    x, y = test_dataset[i]\n",
    "    if not y in classes:\n",
    "        i += 1\n",
    "        continue\n",
    "    \n",
    "    if not y in classes_to_accumulate:\n",
    "        i+=1\n",
    "        continue\n",
    "    \n",
    "    \n",
    "    examples[y].append(i)\n",
    "    \n",
    "    if len(examples[y]) == class_size:\n",
    "        classes_to_accumulate.remove(y)\n",
    "        if len(classes_to_accumulate) == 0:\n",
    "            break\n",
    "    i+=1\n",
    "    \n",
    "[f'{k}:{len(v)}' for k, v in examples.items()]"
   ]
  },
  {
   "cell_type": "markdown",
   "metadata": {},
   "source": [
    "### Get Outputs for each model and class"
   ]
  },
  {
   "cell_type": "code",
   "execution_count": null,
   "metadata": {},
   "outputs": [],
   "source": [
    "def get_activations(model, trn, part_manager, part_i):\n",
    "    part_output_list = [[] for _ in range(n_classes)]\n",
    "\n",
    "    for class_i, class_examples in examples.items():\n",
    "        class_order = classes.index(class_i)\n",
    "        for example_i in class_examples:\n",
    "            x, y = test_dataset[example_i]\n",
    "            x = x.unsqueeze(0).to(trn.device)\n",
    "            _ = model(x)\n",
    "            \n",
    "            part_output = getattr(part_manager.parts[part_i].get_loss_end_layer(), trainer.SAVED_OUTPUT_NAME)\n",
    "            part_output = torch.squeeze(part_output).cpu().detach().numpy()\n",
    "            part_output_list[class_order].append(part_output)\n",
    "\n",
    "    activations = np.array(part_output_list)\n",
    "    return activations\n",
    "\n",
    "part_i = 1\n",
    "activations1 = get_activations(model1, trn1, manager1, part_i)\n",
    "activations2 = get_activations(model2, trn2, manager2, part_i)\n",
    "activations3 = get_activations(model3, trn3, manager3, part_i)"
   ]
  },
  {
   "cell_type": "code",
   "execution_count": null,
   "metadata": {},
   "outputs": [],
   "source": [
    "def mean_class_difference(act):\n",
    "    return np.square((act[0].mean(axis=1) - act[1].mean(axis=1))).mean()"
   ]
  },
  {
   "cell_type": "code",
   "execution_count": null,
   "metadata": {},
   "outputs": [],
   "source": [
    "mean_class_difference(activations1)\n"
   ]
  },
  {
   "cell_type": "code",
   "execution_count": null,
   "metadata": {},
   "outputs": [],
   "source": [
    "mean_class_difference(activations2)"
   ]
  },
  {
   "cell_type": "code",
   "execution_count": null,
   "metadata": {},
   "outputs": [],
   "source": [
    "mean_class_difference(activations3)"
   ]
  },
  {
   "cell_type": "markdown",
   "metadata": {},
   "source": [
    "Save activations"
   ]
  },
  {
   "cell_type": "code",
   "execution_count": null,
   "metadata": {},
   "outputs": [],
   "source": [
    "np.save(r\"D:\\projects\\adversarial_robustness\\experiments\\exp1_cmpe597_regular_mnist_robust30\\activations.npy\", activations1)\n",
    "np.save(r\"D:\\projects\\adversarial_robustness\\experiments\\exp1_cmpe597_regular_mnist_robust50\\activations.npy\", activations2)\n",
    "np.save(r\"D:\\projects\\adversarial_robustness\\experiments\\exp1_cmpe597_regular_mnist_robust70\\activations.npy\", activations3)"
   ]
  },
  {
   "cell_type": "code",
   "execution_count": null,
   "metadata": {},
   "outputs": [],
   "source": []
  }
 ],
 "metadata": {
  "interpreter": {
   "hash": "8d13dd16ed1d9d0f9b50066a4c58f58f02ea0db6cf3822c9f71a8c066ab69665"
  },
  "kernelspec": {
   "display_name": "Python 3.9.7 ('env')",
   "language": "python",
   "name": "python3"
  },
  "language_info": {
   "codemirror_mode": {
    "name": "ipython",
    "version": 3
   },
   "file_extension": ".py",
   "mimetype": "text/x-python",
   "name": "python",
   "nbconvert_exporter": "python",
   "pygments_lexer": "ipython3",
   "version": "3.9.7"
  },
  "orig_nbformat": 4
 },
 "nbformat": 4,
 "nbformat_minor": 2
}
